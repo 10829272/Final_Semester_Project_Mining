{
 "cells": [
  {
   "cell_type": "code",
   "execution_count": 58,
   "metadata": {},
   "outputs": [],
   "source": [
    "import re\n",
    "import nltk\n",
    "# nltk.download('stopwords')\n",
    "# nltk.download('punkt')\n",
    "# nltk.download('wordnet')\n",
    "# nltk.download('omw-1.4')\n",
    "import string\n",
    "import pandas as pd\n",
    "from sklearn import metrics\n",
    "import matplotlib.pyplot as plt\n",
    "from nltk.corpus import stopwords\n",
    "from sklearn.svm import LinearSVC\n",
    "from nltk.stem import WordNetLemmatizer\n",
    "from nltk.stem.porter import PorterStemmer\n",
    "from sklearn.naive_bayes import MultinomialNB\n",
    "from sklearn.model_selection import train_test_split\n",
    "from nltk.tokenize import regexp_tokenize, sent_tokenize, word_tokenize\n",
    "from sklearn.feature_extraction.text import CountVectorizer, TfidfVectorizer\n",
    "from sklearn.pipeline import Pipeline\n",
    "from sklearn.metrics import classification_report\n",
    "\n",
    "\n",
    "import pickle"
   ]
  },
  {
   "cell_type": "markdown",
   "metadata": {},
   "source": [
    "# DATASET"
   ]
  },
  {
   "cell_type": "code",
   "execution_count": 71,
   "metadata": {},
   "outputs": [
    {
     "name": "stdout",
     "output_type": "stream",
     "text": [
      "(245, 12)\n"
     ]
    },
    {
     "data": {
      "text/html": [
       "<div>\n",
       "<style scoped>\n",
       "    .dataframe tbody tr th:only-of-type {\n",
       "        vertical-align: middle;\n",
       "    }\n",
       "\n",
       "    .dataframe tbody tr th {\n",
       "        vertical-align: top;\n",
       "    }\n",
       "\n",
       "    .dataframe thead th {\n",
       "        text-align: right;\n",
       "    }\n",
       "</style>\n",
       "<table border=\"1\" class=\"dataframe\">\n",
       "  <thead>\n",
       "    <tr style=\"text-align: right;\">\n",
       "      <th></th>\n",
       "      <th>Unnamed: 0</th>\n",
       "      <th>Created at</th>\n",
       "      <th>User ID</th>\n",
       "      <th>Label</th>\n",
       "      <th>User Name</th>\n",
       "      <th>Text</th>\n",
       "      <th>Description</th>\n",
       "      <th>Location</th>\n",
       "      <th>Followers Count</th>\n",
       "      <th>Friends Count</th>\n",
       "      <th>Statuses Count</th>\n",
       "      <th>Profile Image Url</th>\n",
       "    </tr>\n",
       "  </thead>\n",
       "  <tbody>\n",
       "    <tr>\n",
       "      <th>0</th>\n",
       "      <td>4</td>\n",
       "      <td>Mon Sep 19 21:42:39 +0000 2022</td>\n",
       "      <td>1.571980e+18</td>\n",
       "      <td>1</td>\n",
       "      <td>David Ornstein</td>\n",
       "      <td>🚨 Chelsea appointment of sporting director not...</td>\n",
       "      <td>Football Correspondent, @TheAthleticUK</td>\n",
       "      <td>UK</td>\n",
       "      <td>1699313</td>\n",
       "      <td>1970</td>\n",
       "      <td>6861</td>\n",
       "      <td>http://pbs.twimg.com/profile_images/1178558529...</td>\n",
       "    </tr>\n",
       "    <tr>\n",
       "      <th>1</th>\n",
       "      <td>7</td>\n",
       "      <td>Sun Sep 18 20:15:27 +0000 2022</td>\n",
       "      <td>1.571590e+18</td>\n",
       "      <td>1</td>\n",
       "      <td>David Ornstein</td>\n",
       "      <td>🚨 Chelsea met with RB Leipzig chief Oliver Min...</td>\n",
       "      <td>Football Correspondent, @TheAthleticUK</td>\n",
       "      <td>UK</td>\n",
       "      <td>1699313</td>\n",
       "      <td>1970</td>\n",
       "      <td>6861</td>\n",
       "      <td>http://pbs.twimg.com/profile_images/1178558529...</td>\n",
       "    </tr>\n",
       "    <tr>\n",
       "      <th>2</th>\n",
       "      <td>8</td>\n",
       "      <td>Sun Sep 18 19:45:44 +0000 2022</td>\n",
       "      <td>1.571590e+18</td>\n",
       "      <td>1</td>\n",
       "      <td>David Ornstein</td>\n",
       "      <td>🚨 EXCL: Everton open talks over new contract f...</td>\n",
       "      <td>Football Correspondent, @TheAthleticUK</td>\n",
       "      <td>UK</td>\n",
       "      <td>1699313</td>\n",
       "      <td>1970</td>\n",
       "      <td>6861</td>\n",
       "      <td>http://pbs.twimg.com/profile_images/1178558529...</td>\n",
       "    </tr>\n",
       "    <tr>\n",
       "      <th>3</th>\n",
       "      <td>16</td>\n",
       "      <td>Thu Sep 15 11:52:55 +0000 2022</td>\n",
       "      <td>1.570380e+18</td>\n",
       "      <td>1</td>\n",
       "      <td>David Ornstein</td>\n",
       "      <td>🚨 Brentford striker Ivan Toney set to be named...</td>\n",
       "      <td>Football Correspondent, @TheAthleticUK</td>\n",
       "      <td>UK</td>\n",
       "      <td>1699313</td>\n",
       "      <td>1970</td>\n",
       "      <td>6861</td>\n",
       "      <td>http://pbs.twimg.com/profile_images/1178558529...</td>\n",
       "    </tr>\n",
       "    <tr>\n",
       "      <th>4</th>\n",
       "      <td>21</td>\n",
       "      <td>Mon Sep 12 08:20:46 +0000 2022</td>\n",
       "      <td>1.569240e+18</td>\n",
       "      <td>1</td>\n",
       "      <td>David Ornstein</td>\n",
       "      <td>🚨 Arsenal head of emerging talent Yousuf Sajja...</td>\n",
       "      <td>Football Correspondent, @TheAthleticUK</td>\n",
       "      <td>UK</td>\n",
       "      <td>1699313</td>\n",
       "      <td>1970</td>\n",
       "      <td>6861</td>\n",
       "      <td>http://pbs.twimg.com/profile_images/1178558529...</td>\n",
       "    </tr>\n",
       "  </tbody>\n",
       "</table>\n",
       "</div>"
      ],
      "text/plain": [
       "   Unnamed: 0                      Created at       User ID  Label  \\\n",
       "0           4  Mon Sep 19 21:42:39 +0000 2022  1.571980e+18      1   \n",
       "1           7  Sun Sep 18 20:15:27 +0000 2022  1.571590e+18      1   \n",
       "2           8  Sun Sep 18 19:45:44 +0000 2022  1.571590e+18      1   \n",
       "3          16  Thu Sep 15 11:52:55 +0000 2022  1.570380e+18      1   \n",
       "4          21  Mon Sep 12 08:20:46 +0000 2022  1.569240e+18      1   \n",
       "\n",
       "        User Name                                               Text  \\\n",
       "0  David Ornstein  🚨 Chelsea appointment of sporting director not...   \n",
       "1  David Ornstein  🚨 Chelsea met with RB Leipzig chief Oliver Min...   \n",
       "2  David Ornstein  🚨 EXCL: Everton open talks over new contract f...   \n",
       "3  David Ornstein  🚨 Brentford striker Ivan Toney set to be named...   \n",
       "4  David Ornstein  🚨 Arsenal head of emerging talent Yousuf Sajja...   \n",
       "\n",
       "                              Description Location  Followers Count  \\\n",
       "0  Football Correspondent, @TheAthleticUK       UK          1699313   \n",
       "1  Football Correspondent, @TheAthleticUK       UK          1699313   \n",
       "2  Football Correspondent, @TheAthleticUK       UK          1699313   \n",
       "3  Football Correspondent, @TheAthleticUK       UK          1699313   \n",
       "4  Football Correspondent, @TheAthleticUK       UK          1699313   \n",
       "\n",
       "   Friends Count  Statuses Count  \\\n",
       "0           1970            6861   \n",
       "1           1970            6861   \n",
       "2           1970            6861   \n",
       "3           1970            6861   \n",
       "4           1970            6861   \n",
       "\n",
       "                                   Profile Image Url  \n",
       "0  http://pbs.twimg.com/profile_images/1178558529...  \n",
       "1  http://pbs.twimg.com/profile_images/1178558529...  \n",
       "2  http://pbs.twimg.com/profile_images/1178558529...  \n",
       "3  http://pbs.twimg.com/profile_images/1178558529...  \n",
       "4  http://pbs.twimg.com/profile_images/1178558529...  "
      ]
     },
     "execution_count": 71,
     "metadata": {},
     "output_type": "execute_result"
    }
   ],
   "source": [
    "news_tweets1 = pd.read_csv('david_labelled.csv')\n",
    "news_tweets2 = pd.read_csv('transfer_news1_labelled.csv')\n",
    "news_tweets3 = pd.read_csv('transferChecker_labelled.csv')\n",
    "\n",
    "news_tweets = pd.concat([news_tweets1, news_tweets2, news_tweets3])\n",
    "\n",
    "print(news_tweets.shape)\n",
    "news_tweets.head()"
   ]
  },
  {
   "cell_type": "code",
   "execution_count": 60,
   "metadata": {},
   "outputs": [
    {
     "data": {
      "text/html": [
       "<div>\n",
       "<style scoped>\n",
       "    .dataframe tbody tr th:only-of-type {\n",
       "        vertical-align: middle;\n",
       "    }\n",
       "\n",
       "    .dataframe tbody tr th {\n",
       "        vertical-align: top;\n",
       "    }\n",
       "\n",
       "    .dataframe thead th {\n",
       "        text-align: right;\n",
       "    }\n",
       "</style>\n",
       "<table border=\"1\" class=\"dataframe\">\n",
       "  <thead>\n",
       "    <tr style=\"text-align: right;\">\n",
       "      <th></th>\n",
       "      <th>Text</th>\n",
       "      <th>Followers Count</th>\n",
       "      <th>Label</th>\n",
       "    </tr>\n",
       "  </thead>\n",
       "  <tbody>\n",
       "    <tr>\n",
       "      <th>0</th>\n",
       "      <td>David Ornstein 🚨 Chelsea appointment of sporti...</td>\n",
       "      <td>1699313</td>\n",
       "      <td>1</td>\n",
       "    </tr>\n",
       "    <tr>\n",
       "      <th>1</th>\n",
       "      <td>David Ornstein 🚨 Chelsea met with RB Leipzig c...</td>\n",
       "      <td>1699313</td>\n",
       "      <td>1</td>\n",
       "    </tr>\n",
       "    <tr>\n",
       "      <th>2</th>\n",
       "      <td>David Ornstein 🚨 EXCL: Everton open talks over...</td>\n",
       "      <td>1699313</td>\n",
       "      <td>1</td>\n",
       "    </tr>\n",
       "    <tr>\n",
       "      <th>3</th>\n",
       "      <td>David Ornstein 🚨 Brentford striker Ivan Toney ...</td>\n",
       "      <td>1699313</td>\n",
       "      <td>1</td>\n",
       "    </tr>\n",
       "    <tr>\n",
       "      <th>4</th>\n",
       "      <td>David Ornstein 🚨 Arsenal head of emerging tale...</td>\n",
       "      <td>1699313</td>\n",
       "      <td>1</td>\n",
       "    </tr>\n",
       "  </tbody>\n",
       "</table>\n",
       "</div>"
      ],
      "text/plain": [
       "                                                Text  Followers Count  Label\n",
       "0  David Ornstein 🚨 Chelsea appointment of sporti...          1699313      1\n",
       "1  David Ornstein 🚨 Chelsea met with RB Leipzig c...          1699313      1\n",
       "2  David Ornstein 🚨 EXCL: Everton open talks over...          1699313      1\n",
       "3  David Ornstein 🚨 Brentford striker Ivan Toney ...          1699313      1\n",
       "4  David Ornstein 🚨 Arsenal head of emerging tale...          1699313      1"
      ]
     },
     "execution_count": 60,
     "metadata": {},
     "output_type": "execute_result"
    }
   ],
   "source": [
    "news_tweets['Text'] = news_tweets['User Name'].astype(str)+' '+news_tweets['Text'].astype(str)+' '+news_tweets['Description'].astype(str)\n",
    "train_data = news_tweets[['Text', 'Followers Count', 'Label']]\n",
    "train_data.head()"
   ]
  },
  {
   "cell_type": "markdown",
   "metadata": {},
   "source": [
    "# TEXT PREPROCESSING"
   ]
  },
  {
   "cell_type": "code",
   "execution_count": 61,
   "metadata": {},
   "outputs": [
    {
     "name": "stderr",
     "output_type": "stream",
     "text": [
      "C:\\Users\\user\\AppData\\Local\\Temp\\ipykernel_12712\\1374907274.py:58: SettingWithCopyWarning: \n",
      "A value is trying to be set on a copy of a slice from a DataFrame.\n",
      "Try using .loc[row_indexer,col_indexer] = value instead\n",
      "\n",
      "See the caveats in the documentation: https://pandas.pydata.org/pandas-docs/stable/user_guide/indexing.html#returning-a-view-versus-a-copy\n",
      "  train_data['Text'] = train_data['Text'].apply(lambda x: clean_text(x))\n"
     ]
    },
    {
     "data": {
      "text/html": [
       "<div>\n",
       "<style scoped>\n",
       "    .dataframe tbody tr th:only-of-type {\n",
       "        vertical-align: middle;\n",
       "    }\n",
       "\n",
       "    .dataframe tbody tr th {\n",
       "        vertical-align: top;\n",
       "    }\n",
       "\n",
       "    .dataframe thead th {\n",
       "        text-align: right;\n",
       "    }\n",
       "</style>\n",
       "<table border=\"1\" class=\"dataframe\">\n",
       "  <thead>\n",
       "    <tr style=\"text-align: right;\">\n",
       "      <th></th>\n",
       "      <th>Text</th>\n",
       "      <th>Followers Count</th>\n",
       "      <th>Label</th>\n",
       "    </tr>\n",
       "  </thead>\n",
       "  <tbody>\n",
       "    <tr>\n",
       "      <th>0</th>\n",
       "      <td>david ornstein chelsea appointment sport direc...</td>\n",
       "      <td>1699313</td>\n",
       "      <td>1</td>\n",
       "    </tr>\n",
       "    <tr>\n",
       "      <th>1</th>\n",
       "      <td>david ornstein chelsea meet rb leipzig chief o...</td>\n",
       "      <td>1699313</td>\n",
       "      <td>1</td>\n",
       "    </tr>\n",
       "    <tr>\n",
       "      <th>2</th>\n",
       "      <td>david ornstein excl everton open talk new cont...</td>\n",
       "      <td>1699313</td>\n",
       "      <td>1</td>\n",
       "    </tr>\n",
       "    <tr>\n",
       "      <th>3</th>\n",
       "      <td>david ornstein brentford striker ivan toney se...</td>\n",
       "      <td>1699313</td>\n",
       "      <td>1</td>\n",
       "    </tr>\n",
       "    <tr>\n",
       "      <th>4</th>\n",
       "      <td>david ornstein arsenal head emerge talent yous...</td>\n",
       "      <td>1699313</td>\n",
       "      <td>1</td>\n",
       "    </tr>\n",
       "  </tbody>\n",
       "</table>\n",
       "</div>"
      ],
      "text/plain": [
       "                                                Text  Followers Count  Label\n",
       "0  david ornstein chelsea appointment sport direc...          1699313      1\n",
       "1  david ornstein chelsea meet rb leipzig chief o...          1699313      1\n",
       "2  david ornstein excl everton open talk new cont...          1699313      1\n",
       "3  david ornstein brentford striker ivan toney se...          1699313      1\n",
       "4  david ornstein arsenal head emerge talent yous...          1699313      1"
      ]
     },
     "execution_count": 61,
     "metadata": {},
     "output_type": "execute_result"
    }
   ],
   "source": [
    "\n",
    "stop_words = stopwords.words('english')\n",
    "\n",
    "def remove_special_chars(text):\n",
    "    re1 = re.compile(r'  +')\n",
    "    x1 = text.lower().replace('#39;', \"'\").replace('amp;', '&').replace('#', \"\").replace(\n",
    "        'nbsp;', ' ').replace('#36;', '$').replace('quot;', \"'\").replace(\"@\", '').replace('🚨', \"\").replace('🔵', '')\n",
    "    return re1.sub(' ', x1)\n",
    "    \n",
    "\n",
    "def remove_punctuation(text):\n",
    "    \"\"\"Remove punctuation from list of tokenized words\"\"\"\n",
    "    translator = str.maketrans('', '', string.punctuation)\n",
    "    return text.translate(translator)\n",
    "\n",
    "\n",
    "def replace_numbers(text):\n",
    "    \"\"\"Replace all interger occurrences in list of tokenized words with textual representation\"\"\"\n",
    "    return re.sub(r'\\d+', '', text)\n",
    "\n",
    "\n",
    "\n",
    "def remove_stopwords(words, stop_words):\n",
    "    \"\"\"Remove stopwords\"\"\"\n",
    "    return [word for word in words if word not in stop_words]\n",
    "\n",
    "\n",
    "def stem_words(words):\n",
    "    \"\"\"Stem words in text\"\"\"\n",
    "    stemmer = PorterStemmer()\n",
    "    return [stemmer.stem(word) for word in words]\n",
    "\n",
    "def lemmatize_words(words):\n",
    "    \"\"\"Lemmatize words in text\"\"\"\n",
    "\n",
    "    lemmatizer = WordNetLemmatizer()\n",
    "    return [lemmatizer.lemmatize(word) for word in words]\n",
    "\n",
    "def lemmatize_verbs(words):\n",
    "    \"\"\"Lemmatize verbs in text\"\"\"\n",
    "\n",
    "    lemmatizer = WordNetLemmatizer()\n",
    "    return ' '.join([lemmatizer.lemmatize(word, pos='v') for word in words])\n",
    "\n",
    "\n",
    "def clean_text( text):\n",
    "    text = remove_special_chars(text)\n",
    "    text = remove_punctuation(text)\n",
    "    text = text.lower()\n",
    "    # text = replace_numbers(text)\n",
    "    words = word_tokenize(text)\n",
    "    words = remove_stopwords(words, stop_words)\n",
    "    #words = stem_words(words)# Either stem ovocar lemmatize\n",
    "    words = lemmatize_words(words)\n",
    "    words = lemmatize_verbs(words)\n",
    "\n",
    "    return ''.join(words)\n",
    "\n",
    "train_data['Text'] = train_data['Text'].apply(lambda x: clean_text(x))\n",
    "train_data.head()\n",
    "# train.sample(1)['Comment'].values[0]"
   ]
  },
  {
   "cell_type": "markdown",
   "metadata": {},
   "source": [
    "# Splitting dataset"
   ]
  },
  {
   "cell_type": "code",
   "execution_count": 62,
   "metadata": {},
   "outputs": [],
   "source": [
    "train_targ = train_data['Label']\n",
    "train_param = train_data.drop(columns=['Label'])\n",
    "# Split training and testing data\n",
    "X_train, X_test, y_train, y_test = train_test_split(train_param['Text'], train_targ, random_state = 33, test_size = .3)"
   ]
  },
  {
   "cell_type": "markdown",
   "metadata": {},
   "source": [
    "# Count and tfVectorizer Naive Bayes"
   ]
  },
  {
   "cell_type": "code",
   "execution_count": 63,
   "metadata": {},
   "outputs": [],
   "source": [
    "# Created pipelines to initialize count and Tfvcectorizer\n",
    "\n",
    "tfVectorizer_NB_fake_news_classifier = Pipeline(steps=[\n",
    "    ('pre_processing',TfidfVectorizer(max_features=5000)),\n",
    "    (\"NB\",MultinomialNB())\n",
    "])\n",
    "countVectorizer_NB_fake_news_classifier = Pipeline(steps=[\n",
    "    ('pre_processing',CountVectorizer()),\n",
    "    (\"NB\",MultinomialNB())\n",
    "])\n",
    "tfVectorizer_SVC_fake_news_classifier = Pipeline(steps=[\n",
    "    ('pre_processing',CountVectorizer()),\n",
    "    (\"LinearSVC\",LinearSVC())\n",
    "])\n"
   ]
  },
  {
   "cell_type": "code",
   "execution_count": 64,
   "metadata": {},
   "outputs": [
    {
     "name": "stdout",
     "output_type": "stream",
     "text": [
      "NaiveBayes Tfidf Score:  0.7162162162162162\n",
      "NaiveBayes Count Score:  0.8243243243243243\n"
     ]
    }
   ],
   "source": [
    "# tfidf_nb = MultinomialNB()\n",
    "\n",
    "# ... Train your model here ...\n",
    "tfVectorizer_NB_fake_news_classifier.fit(X_train, y_train)\n",
    "# Run predict on your TF-IDF test data to get your predictions\n",
    "tfidf_nb_pred = tfVectorizer_NB_fake_news_classifier.predict(X_test)\n",
    "\n",
    "# Calculate the accuracy of your predictions\n",
    "tfidf_nb_score = metrics.accuracy_score(y_test, tfidf_nb_pred)\n",
    "\n",
    "# Create a MulitnomialNB model\n",
    "# count_nb = MultinomialNB()\n",
    "# ... Train your model here ...\n",
    "countVectorizer_NB_fake_news_classifier.fit(X_train, y_train)\n",
    "# Run predict on your count test data to get your predictions\n",
    "count_nb_pred = countVectorizer_NB_fake_news_classifier.predict(X_test)\n",
    "\n",
    "# Calculate the accuracy of your predictions\n",
    "count_nb_score = metrics.accuracy_score(y_test, count_nb_pred)\n",
    "\n",
    "print('NaiveBayes Tfidf Score: ', tfidf_nb_score)\n",
    "print('NaiveBayes Count Score: ', count_nb_score)"
   ]
  },
  {
   "cell_type": "code",
   "execution_count": 65,
   "metadata": {},
   "outputs": [
    {
     "data": {
      "image/png": "[encoded data removed]",
      "text/plain": [
       "<Figure size 432x288 with 2 Axes>"
      ]
     },
     "metadata": {
      "needs_background": "light"
     },
     "output_type": "display_data"
    },
    {
     "name": "stderr",
     "output_type": "stream",
     "text": [
      "C:\\Users\\user\\AppData\\Local\\Temp\\ipykernel_12712\\239752540.py:12: UserWarning: Matplotlib is currently using module://matplotlib_inline.backend_inline, which is a non-GUI backend, so cannot show the figure.\n",
      "  g.show()\n"
     ]
    },
    {
     "data": {
      "text/plain": [
       "<Figure size 432x288 with 0 Axes>"
      ]
     },
     "metadata": {},
     "output_type": "display_data"
    },
    {
     "data": {
      "image/png": "[encoded data removed]",
      "text/plain": [
       "<Figure size 432x288 with 2 Axes>"
      ]
     },
     "metadata": {
      "needs_background": "light"
     },
     "output_type": "display_data"
    }
   ],
   "source": [
    "# Calculate the confusion matrices for the tfidf_nb model and count_nb models\n",
    "tfidf_nb_cm = metrics.confusion_matrix(y_test, tfidf_nb_pred, labels=[0, 1])\n",
    "count_nb_cm = metrics.confusion_matrix(y_test, count_nb_pred, labels=[0, 1])\n",
    "\n",
    "# Plot the tfidf_nb_cm confusion matrix\n",
    "metrics.ConfusionMatrixDisplay(tfidf_nb_cm, display_labels=[0, 1]).plot()\n",
    "plt.show()\n",
    "\n",
    "g = plt.figure(1)\n",
    "# # Plot the count_nb_cm confusion matrix without overwriting the first plot \n",
    "metrics.ConfusionMatrixDisplay(count_nb_cm, display_labels=[0, 1]).plot()\n",
    "g.show()"
   ]
  },
  {
   "cell_type": "markdown",
   "metadata": {},
   "source": [
    "# Linear SVC"
   ]
  },
  {
   "cell_type": "code",
   "execution_count": 66,
   "metadata": {},
   "outputs": [
    {
     "name": "stdout",
     "output_type": "stream",
     "text": [
      "LinearSVC Score:   0.770\n"
     ]
    },
    {
     "data": {
      "image/png": "[encoded data removed]",
      "text/plain": [
       "<Figure size 432x288 with 2 Axes>"
      ]
     },
     "metadata": {
      "needs_background": "light"
     },
     "output_type": "display_data"
    }
   ],
   "source": [
    "# tfidf_svc = LinearSVC()\n",
    "\n",
    "# ... Train your model here ...\n",
    "tfVectorizer_SVC_fake_news_classifier.fit(X_train, y_train)\n",
    "# Run predict on your tfidf test data to get your predictions\n",
    "tfidf_svc_pred = tfVectorizer_SVC_fake_news_classifier.predict(X_test)\n",
    "\n",
    "# Calculate your accuracy using the metrics module\n",
    "tfidf_svc_score = metrics.accuracy_score(y_test,tfidf_svc_pred )\n",
    "\n",
    "print(\"LinearSVC Score:   %0.3f\" % tfidf_svc_score)\n",
    "\n",
    "# Calculate the confusion matrices for the tfidf_svc model\n",
    "svc_cm = metrics.confusion_matrix(y_test, tfidf_svc_pred, labels=[0, 1])\n",
    "\n",
    "# Plot the confusion matrix using the plot_confusion_matrix function\n",
    "metrics.ConfusionMatrixDisplay(svc_cm, display_labels=[0, 1]).plot()\n",
    "plt.show()"
   ]
  },
  {
   "cell_type": "markdown",
   "metadata": {},
   "source": [
    "# Evaluating Accuracy"
   ]
  },
  {
   "cell_type": "code",
   "execution_count": 67,
   "metadata": {},
   "outputs": [
    {
     "name": "stdout",
     "output_type": "stream",
     "text": [
      "              precision    recall  f1-score   support\n",
      "\n",
      "           0       0.77      0.36      0.49        28\n",
      "           1       0.70      0.93      0.80        46\n",
      "\n",
      "    accuracy                           0.72        74\n",
      "   macro avg       0.74      0.65      0.65        74\n",
      "weighted avg       0.73      0.72      0.68        74\n",
      "\n",
      "              precision    recall  f1-score   support\n",
      "\n",
      "           0       0.76      0.79      0.77        28\n",
      "           1       0.87      0.85      0.86        46\n",
      "\n",
      "    accuracy                           0.82        74\n",
      "   macro avg       0.81      0.82      0.81        74\n",
      "weighted avg       0.83      0.82      0.82        74\n",
      "\n",
      "              precision    recall  f1-score   support\n",
      "\n",
      "           0       0.72      0.64      0.68        28\n",
      "           1       0.80      0.85      0.82        46\n",
      "\n",
      "    accuracy                           0.77        74\n",
      "   macro avg       0.76      0.75      0.75        74\n",
      "weighted avg       0.77      0.77      0.77        74\n",
      "\n"
     ]
    }
   ],
   "source": [
    "print(classification_report(y_test,tfidf_nb_pred))\n",
    "print(classification_report(y_test,count_nb_pred))\n",
    "print(classification_report(y_test,tfidf_svc_pred))"
   ]
  },
  {
   "cell_type": "markdown",
   "metadata": {},
   "source": [
    "# Saving Model"
   ]
  },
  {
   "cell_type": "code",
   "execution_count": 68,
   "metadata": {},
   "outputs": [],
   "source": [
    "pickle.dump(countVectorizer_NB_fake_news_classifier, open(\"saved_model.pkl\", \"wb\"))\n"
   ]
  },
  {
   "cell_type": "code",
   "execution_count": null,
   "metadata": {},
   "outputs": [],
   "source": []
  }
 ],
 "metadata": {
  "kernelspec": {
   "display_name": "Python 3.10.5 64-bit",
   "language": "python",
   "name": "python3"
  },
  "language_info": {
   "codemirror_mode": {
    "name": "ipython",
    "version": 3
   },
   "file_extension": ".py",
   "mimetype": "text/x-python",
   "name": "python",
   "nbconvert_exporter": "python",
   "pygments_lexer": "ipython3",
   "version": "3.10.5"
  },
  "orig_nbformat": 4,
  "vscode": {
   "interpreter": {
    "hash": "369f2c481f4da34e4445cda3fffd2e751bd1c4d706f27375911949ba6bb62e1c"
   }
  }
 },
 "nbformat": 4,
 "nbformat_minor": 2
}
